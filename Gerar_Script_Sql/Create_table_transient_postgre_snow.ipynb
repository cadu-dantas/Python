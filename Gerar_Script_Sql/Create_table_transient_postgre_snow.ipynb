{
 "cells": [
  {
   "cell_type": "code",
   "execution_count": 2,
   "metadata": {},
   "outputs": [
    {
     "ename": "NameError",
     "evalue": "name 'sqlite3' is not defined",
     "output_type": "error",
     "traceback": [
      "\u001b[1;31m---------------------------------------------------------------------------\u001b[0m",
      "\u001b[1;31mNameError\u001b[0m                                 Traceback (most recent call last)",
      "\u001b[1;32mc:\\ProjetosPython\\EDD-DL\\Gerar_Script_Sql\\Create_table_transient_postgre_snow.ipynb Cell 1\u001b[0m line \u001b[0;36m1\n\u001b[0;32m      <a href='vscode-notebook-cell:/c%3A/ProjetosPython/EDD-DL/Gerar_Script_Sql/Create_table_transient_postgre_snow.ipynb#W0sZmlsZQ%3D%3D?line=4'>5</a>\u001b[0m pg_conn \u001b[39m=\u001b[39m psycopg2\u001b[39m.\u001b[39mconnect(\n\u001b[0;32m      <a href='vscode-notebook-cell:/c%3A/ProjetosPython/EDD-DL/Gerar_Script_Sql/Create_table_transient_postgre_snow.ipynb#W0sZmlsZQ%3D%3D?line=5'>6</a>\u001b[0m     host\u001b[39m=\u001b[39m\u001b[39m\"\u001b[39m\u001b[39m172.18.1.212\u001b[39m\u001b[39m\"\u001b[39m,\n\u001b[0;32m      <a href='vscode-notebook-cell:/c%3A/ProjetosPython/EDD-DL/Gerar_Script_Sql/Create_table_transient_postgre_snow.ipynb#W0sZmlsZQ%3D%3D?line=6'>7</a>\u001b[0m     database\u001b[39m=\u001b[39m\u001b[39m\"\u001b[39m\u001b[39mpbm_servier_snowflake\u001b[39m\u001b[39m\"\u001b[39m,\n\u001b[0;32m      <a href='vscode-notebook-cell:/c%3A/ProjetosPython/EDD-DL/Gerar_Script_Sql/Create_table_transient_postgre_snow.ipynb#W0sZmlsZQ%3D%3D?line=7'>8</a>\u001b[0m     user\u001b[39m=\u001b[39m\u001b[39m\"\u001b[39m\u001b[39mpostgres\u001b[39m\u001b[39m\"\u001b[39m,\n\u001b[0;32m      <a href='vscode-notebook-cell:/c%3A/ProjetosPython/EDD-DL/Gerar_Script_Sql/Create_table_transient_postgre_snow.ipynb#W0sZmlsZQ%3D%3D?line=8'>9</a>\u001b[0m     password\u001b[39m=\u001b[39m\u001b[39m\"\u001b[39m\u001b[39m2rryt6zMeWvWAemm\u001b[39m\u001b[39m\"\u001b[39m\n\u001b[0;32m     <a href='vscode-notebook-cell:/c%3A/ProjetosPython/EDD-DL/Gerar_Script_Sql/Create_table_transient_postgre_snow.ipynb#W0sZmlsZQ%3D%3D?line=9'>10</a>\u001b[0m )\n\u001b[0;32m     <a href='vscode-notebook-cell:/c%3A/ProjetosPython/EDD-DL/Gerar_Script_Sql/Create_table_transient_postgre_snow.ipynb#W0sZmlsZQ%3D%3D?line=11'>12</a>\u001b[0m \u001b[39m# Conexão SQLite\u001b[39;00m\n\u001b[1;32m---> <a href='vscode-notebook-cell:/c%3A/ProjetosPython/EDD-DL/Gerar_Script_Sql/Create_table_transient_postgre_snow.ipynb#W0sZmlsZQ%3D%3D?line=12'>13</a>\u001b[0m conn \u001b[39m=\u001b[39m sqlite3\u001b[39m.\u001b[39mconnect(\u001b[39m'\u001b[39m\u001b[39mC:/ProjetosPython/EDD-DL/Gerar_Script_Sql/database/config_scripts_sql.db\u001b[39m\u001b[39m'\u001b[39m)\n\u001b[0;32m     <a href='vscode-notebook-cell:/c%3A/ProjetosPython/EDD-DL/Gerar_Script_Sql/Create_table_transient_postgre_snow.ipynb#W0sZmlsZQ%3D%3D?line=13'>14</a>\u001b[0m cursor \u001b[39m=\u001b[39m conn\u001b[39m.\u001b[39mcursor()\n\u001b[0;32m     <a href='vscode-notebook-cell:/c%3A/ProjetosPython/EDD-DL/Gerar_Script_Sql/Create_table_transient_postgre_snow.ipynb#W0sZmlsZQ%3D%3D?line=15'>16</a>\u001b[0m \u001b[39mdef\u001b[39;00m \u001b[39mcolumn_add\u001b[39m(columns, column_name, column_type):\n\u001b[0;32m     <a href='vscode-notebook-cell:/c%3A/ProjetosPython/EDD-DL/Gerar_Script_Sql/Create_table_transient_postgre_snow.ipynb#W0sZmlsZQ%3D%3D?line=16'>17</a>\u001b[0m     \u001b[39m# Adicione a nova coluna à lista de colunas\u001b[39;00m\n",
      "\u001b[1;31mNameError\u001b[0m: name 'sqlite3' is not defined"
     ]
    }
   ],
   "source": [
    "import psycopg2\n",
    "import snowflake.connector\n",
    "import sqlite3\n",
    "import pandas as pd\n",
    "\n",
    "# Configurações do PostgreSQL\n",
    "pg_conn = psycopg2.connect(\n",
    "    host=\"000.00.000.0\",\n",
    "    database=\"Sua_base\",\n",
    "    user=\"user\",\n",
    "    password=\"senha\"\n",
    ")\n",
    "\n",
    "# Conexão SQLite -- Banco interno para parametros - (criação do banco na pasta database)\n",
    "conn = sqlite3.connect('C:/ProjetosPython/EDD-DL/Gerar_Script_Sql/database/config_scripts_sql.db')\n",
    "cursor = conn.cursor()\n",
    "\n",
    "def column_add(columns, column_name, column_type):\n",
    "    # Adicione a nova coluna à lista de colunas\n",
    "    columns.append((column_name, column_type))\n",
    "\n",
    "def get_pg_table_structure(table_name):\n",
    "    with pg_conn.cursor() as cursor:\n",
    "        cursor.execute(f\"SELECT column_name, data_type FROM information_schema.columns WHERE table_name = '{table_name}'\")\n",
    "        return cursor.fetchall()\n",
    "\n",
    "#add colunas de controle \n",
    "def get_pg_table_structure_with_added_column(table_name):\n",
    "    columns = get_pg_table_structure(table_name)\n",
    "    column_add(columns, 'CREATED_AT', 'character varying')\n",
    "    column_add(columns, 'UPDATED_AT', 'character varying')\n",
    "    column_add(columns, 'ID_DATABASE', 'character varying')\n",
    "    return columns\n",
    "\n",
    "def create_sf_table(table_name, columns):\n",
    "    create_query = f\"CREATE OR REPLACE TABLE {table_name} ({', '.join([f'{col[0]} {col[1]}' for col in columns])})\"\n",
    "    print(create_query)\n",
    "\n",
    "def migrate_table(pg_table_name, sf_table_name):\n",
    "    pg_columns_with_added = get_pg_table_structure_with_added_column(pg_table_name)\n",
    "    create_sf_table(sf_table_name, pg_columns_with_added)\n",
    "\n",
    "try:\n",
    "    # Leitura das tabelas do SQLite\n",
    "    query_tabelas_full = \"SELECT * FROM config_tabelas_full WHERE ATIVO = 'true';\"\n",
    "    df_tabelas_full = pd.read_sql_query(query_tabelas_full, conn)\n",
    "\n",
    "    for _, tabelas_full in df_tabelas_full.iterrows():\n",
    "        SCHEMA = tabelas_full['SCHEMA']\n",
    "        TABELA = tabelas_full['TABELA']\n",
    "        \n",
    "        # Exemplo de migração de uma tabela com a nova coluna 'CREATED_AT'\n",
    "        migrate_table(TABELA, f\"RESSARCIMENTO.CURATED_DATA.{TABELA}\")\n",
    "        \n",
    "except Exception as err:\n",
    "    print(err)"
   ]
  }
 ],
 "metadata": {
  "kernelspec": {
   "display_name": "Python 3",
   "language": "python",
   "name": "python3"
  },
  "language_info": {
   "codemirror_mode": {
    "name": "ipython",
    "version": 3
   },
   "file_extension": ".py",
   "mimetype": "text/x-python",
   "name": "python",
   "nbconvert_exporter": "python",
   "pygments_lexer": "ipython3",
   "version": "3.9.2"
  },
  "orig_nbformat": 4
 },
 "nbformat": 4,
 "nbformat_minor": 2
}
